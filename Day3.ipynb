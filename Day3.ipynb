{
 "cells": [
  {
   "cell_type": "code",
   "execution_count": 2,
   "id": "dbff0f75-07a2-4931-93de-a9db45f0f106",
   "metadata": {},
   "outputs": [
    {
     "name": "stdout",
     "output_type": "stream",
     "text": [
      "['red', 'green', 'blue', 'black']\n"
     ]
    }
   ],
   "source": [
    "li=['red','green','blue','black','orange']\n",
    "li.pop()\n",
    "print(li)"
   ]
  },
  {
   "cell_type": "code",
   "execution_count": 1,
   "id": "3c63743f-f053-4355-9e24-83de76f4e7f0",
   "metadata": {},
   "outputs": [
    {
     "name": "stdout",
     "output_type": "stream",
     "text": [
      "Final list with even numbers: [12, 18, 22, 8, 4]\n"
     ]
    }
   ],
   "source": [
    "# Accept a list with numbers having 10 elements. Remove the third element and all odd elements.\n",
    "numbers = [12, 7, 9, 18, 5, 22, 13, 8, 21, 4]\n",
    "numbers.pop(2) \n",
    "even_numbers = []\n",
    "for num in numbers:\n",
    "    if num % 2 == 0:\n",
    "        even_numbers.append(num)\n",
    "print(\"Final list with even numbers:\", even_numbers)\n"
   ]
  },
  {
   "cell_type": "code",
   "execution_count": 4,
   "id": "2f673d36-1fb8-4b01-bd0c-2303e58c8864",
   "metadata": {},
   "outputs": [
    {
     "name": "stdout",
     "output_type": "stream",
     "text": [
      "['p', 'd', 'a', 'f', 'a', 'n']\n",
      "['n', 'f', 'a', 'd', 'p']\n"
     ]
    }
   ],
   "source": [
    "k=['a','p','d','a','f','a','n']\n",
    "k.remove('a')\n",
    "print(k)\n",
    "k.reverse()\n",
    "k.remove('a')\n",
    "print(k)"
   ]
  },
  {
   "cell_type": "code",
   "execution_count": null,
   "id": "b011233d-1706-4ad2-999c-f13de37ec518",
   "metadata": {},
   "outputs": [],
   "source": []
  }
 ],
 "metadata": {
  "kernelspec": {
   "display_name": "Python 3 (ipykernel)",
   "language": "python",
   "name": "python3"
  },
  "language_info": {
   "codemirror_mode": {
    "name": "ipython",
    "version": 3
   },
   "file_extension": ".py",
   "mimetype": "text/x-python",
   "name": "python",
   "nbconvert_exporter": "python",
   "pygments_lexer": "ipython3",
   "version": "3.13.5"
  }
 },
 "nbformat": 4,
 "nbformat_minor": 5
}
