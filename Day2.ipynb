{
 "cells": [
  {
   "cell_type": "code",
   "execution_count": 2,
   "id": "216c5041-9124-4333-9494-acd598150c61",
   "metadata": {},
   "outputs": [
    {
     "name": "stdin",
     "output_type": "stream",
     "text": [
      "Enter a number:  100\n"
     ]
    },
    {
     "name": "stdout",
     "output_type": "stream",
     "text": [
      "Current sum: 100\n"
     ]
    },
    {
     "name": "stdin",
     "output_type": "stream",
     "text": [
      "Enter a number:  50\n"
     ]
    },
    {
     "name": "stdout",
     "output_type": "stream",
     "text": [
      "Current sum: 150\n"
     ]
    },
    {
     "name": "stdin",
     "output_type": "stream",
     "text": [
      "Enter a number:  200\n"
     ]
    },
    {
     "name": "stdout",
     "output_type": "stream",
     "text": [
      "Current sum: 350\n",
      "Sum has reached 300\n"
     ]
    }
   ],
   "source": [
    "total = 0\n",
    "while total < 300:\n",
    "    try:\n",
    "        num = int(input(\"Enter a number: \"))\n",
    "        total += num\n",
    "        print(f\"Current sum: {total}\")\n",
    "    except ValueError:\n",
    "        print(\"Please enter a valid integer.\")\n",
    "\n",
    "print(\"Sum has reached 300\")"
   ]
  },
  {
   "cell_type": "code",
   "execution_count": null,
   "id": "b61df981-7690-4ace-82a2-62d2af20ee23",
   "metadata": {},
   "outputs": [],
   "source": [
    "total = 0\n",
    "while total < 300:\n",
    "    try:\n",
    "        num = int(input(\"Enter a number: \"))\n",
    "        total += num\n",
    "        print(f\"Current sum: {total}\")\n",
    "    except ValueError:\n",
    "        print(\"Please enter a valid integer.\")\n",
    "\n",
    "print(\"Sum has reached 300\")"
   ]
  },
  {
   "cell_type": "code",
   "execution_count": 6,
   "id": "99d11e9a-03fa-4c35-85c9-1b22e8687d64",
   "metadata": {},
   "outputs": [
    {
     "name": "stdin",
     "output_type": "stream",
     "text": [
      "enter name Bangalore\n"
     ]
    },
    {
     "name": "stdout",
     "output_type": "stream",
     "text": [
      "B\n",
      "n\n",
      "g\n",
      "l\n",
      "r\n"
     ]
    }
   ],
   "source": [
    "n=input('enter name')\n",
    "for i in n:\n",
    "    if i=='a' or i=='e' or i=='i' or i=='o' or i=='u':\n",
    "        continue\n",
    "    else:\n",
    "        print(i)"
   ]
  },
  {
   "cell_type": "code",
   "execution_count": 9,
   "id": "fee05b16-b164-4f08-8db4-8c4a93f8714b",
   "metadata": {},
   "outputs": [
    {
     "name": "stdin",
     "output_type": "stream",
     "text": [
      "Enter a string:  bon\n"
     ]
    },
    {
     "name": "stdout",
     "output_type": "stream",
     "text": [
      "Voyage\n"
     ]
    }
   ],
   "source": [
    "while True:\n",
    "    user = input(\"Enter a string: \")\n",
    "    if user == \"Bon\" or \"bon\":\n",
    "        print(\"Voyage\")\n",
    "        break"
   ]
  },
  {
   "cell_type": "code",
   "execution_count": 11,
   "id": "258a7117-193c-4a0c-9925-fcead7052c29",
   "metadata": {},
   "outputs": [
    {
     "name": "stdin",
     "output_type": "stream",
     "text": [
      "Enter your door number and street:  128 mg road\n"
     ]
    },
    {
     "name": "stdout",
     "output_type": "stream",
     "text": [
      "Numbers in the address: 128\n"
     ]
    }
   ],
   "source": [
    "address = input(\"Enter your door number and street: \")\n",
    "\n",
    "numbers = \"\"\n",
    "for char in address:\n",
    "    if '0' <= char <= '9':\n",
    "        numbers += char\n",
    "\n",
    "print(\"Numbers in the address:\", numbers)"
   ]
  },
  {
   "cell_type": "code",
   "execution_count": 13,
   "id": "2dfa40b0-45f1-4c28-84c8-7d4ba19215e4",
   "metadata": {},
   "outputs": [
    {
     "name": "stdin",
     "output_type": "stream",
     "text": [
      "Enter element 1:  1\n",
      "Enter element 2:  2\n",
      "Enter element 3:  3\n",
      "Enter element 4:  4\n",
      "Enter element 5:  5\n",
      "Enter your name:  dini\n"
     ]
    },
    {
     "name": "stdout",
     "output_type": "stream",
     "text": [
      "Updated list: ['1', '2', 'dini', '4', 'dini']\n"
     ]
    }
   ],
   "source": [
    "user_list = []\n",
    "for i in range(5):\n",
    "    user_list.append(input(f\"Enter element {i+1}: \"))\n",
    "user = input(\"Enter your name: \")\n",
    "user_list[2] = user\n",
    "user_list[4] = user\n",
    "print(\"Updated list:\", user_list)"
   ]
  },
  {
   "cell_type": "code",
   "execution_count": 1,
   "id": "9b8e6639-e0d9-49bc-b2d0-4cc111f51dc8",
   "metadata": {},
   "outputs": [
    {
     "name": "stdin",
     "output_type": "stream",
     "text": [
      "Enter items separated by spaces:  1\n",
      "Enter the index to insert the new item:  2\n",
      "Enter the new item:  3\n"
     ]
    },
    {
     "name": "stdout",
     "output_type": "stream",
     "text": [
      "Invalid index. Item added at the end.\n",
      "Updated list: ['1', '3']\n"
     ]
    }
   ],
   "source": [
    "items = input(\"Enter items separated by spaces: \").split()\n",
    "index = int(input(\"Enter the index to insert the new item: \"))\n",
    "new_item = input(\"Enter the new item: \")\n",
    "if index >= 0 and index < len(items):\n",
    "    items.insert(index, new_item)\n",
    "    print(\"Item inserted at index\", index)\n",
    "else:\n",
    "    items.append(new_item)\n",
    "    print(\"Invalid index. Item added at the end.\")\n",
    "print(\"Updated list:\", items)"
   ]
  },
  {
   "cell_type": "code",
   "execution_count": null,
   "id": "c50671ad-5ca9-4c19-ac67-b4fac59d78a2",
   "metadata": {},
   "outputs": [],
   "source": []
  }
 ],
 "metadata": {
  "kernelspec": {
   "display_name": "Python 3 (ipykernel)",
   "language": "python",
   "name": "python3"
  },
  "language_info": {
   "codemirror_mode": {
    "name": "ipython",
    "version": 3
   },
   "file_extension": ".py",
   "mimetype": "text/x-python",
   "name": "python",
   "nbconvert_exporter": "python",
   "pygments_lexer": "ipython3",
   "version": "3.13.5"
  }
 },
 "nbformat": 4,
 "nbformat_minor": 5
}
