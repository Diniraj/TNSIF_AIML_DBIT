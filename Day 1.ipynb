{
 "cells": [
  {
   "cell_type": "code",
   "execution_count": 5,
   "id": "ad40abb0-a23d-4500-956f-ffa824e589a4",
   "metadata": {},
   "outputs": [
    {
     "name": "stdin",
     "output_type": "stream",
     "text": [
      "Enter your 4-digit PIN:  1234\n"
     ]
    },
    {
     "name": "stdout",
     "output_type": "stream",
     "text": [
      " Access granted!\n",
      "\n",
      "Menu:\n",
      "1. Check Balance\n",
      "2. Deposit Money\n",
      "3. Withdraw Money\n",
      "4. Exit\n"
     ]
    },
    {
     "name": "stdin",
     "output_type": "stream",
     "text": [
      "Choose an option (1-4):  4\n"
     ]
    },
    {
     "name": "stdout",
     "output_type": "stream",
     "text": [
      " Thanks for using the ATM!\n"
     ]
    }
   ],
   "source": [
    "#Build a simple ATM simulation.\n",
    "correct_pin = \"1234\"\n",
    "balance = 10000\n",
    "attempts = 0\n",
    "while attempts < 3:\n",
    "    pin = input(\"Enter your 4-digit PIN: \")\n",
    "    if pin == correct_pin:\n",
    "        print(\" Access granted!\")\n",
    "        while True:\n",
    "            print(\"\\nMenu:\")\n",
    "            print(\"1. Check Balance\")\n",
    "            print(\"2. Deposit Money\")\n",
    "            print(\"3. Withdraw Money\")\n",
    "            print(\"4. Exit\")\n",
    "            choice = input(\"Choose an option (1-4): \")\n",
    "            if choice == \"1\":\n",
    "                print(f\"Your balance is ₹{balance}\")\n",
    "            elif choice == \"2\":\n",
    "                amount = float(input(\"Enter amount to deposit: ₹\"))\n",
    "                if amount > 0:\n",
    "                    balance += amount\n",
    "                    print(f\"Deposited ₹{amount}\")\n",
    "                else:\n",
    "                    print(\"Invalid amount.\")\n",
    "            elif choice == \"3\":\n",
    "                amount = float(input(\"Enter amount to withdraw: ₹\"))\n",
    "                if amount > 0 and amount <= balance:\n",
    "                    balance -= amount\n",
    "                    print(f\"Withdrawn ₹{amount}\")\n",
    "                else:\n",
    "                    print(\"Invalid or insufficient balance.\")\n",
    "            elif choice == \"4\":\n",
    "                print(\" Thanks for using the ATM!\")\n",
    "                break\n",
    "            else:\n",
    "                print(\" Invalid choice. Please try again.\")\n",
    "        break  \n",
    "    else:\n",
    "        attempts += 1\n",
    "        print(f\" Incorrect PIN. {3 - attempts} attempt(s) left.\")\n",
    "if attempts == 3:\n",
    "    print(\" Card blocked due to too many wrong attempts.\")"
   ]
  },
  {
   "cell_type": "code",
   "execution_count": 4,
   "id": "98432942-9257-4c94-8e1f-0b24180803d0",
   "metadata": {},
   "outputs": [
    {
     "name": "stdin",
     "output_type": "stream",
     "text": [
      " enter the password : 12\n"
     ]
    },
    {
     "name": "stdout",
     "output_type": "stream",
     "text": [
      " invalid password try again... \n"
     ]
    }
   ],
   "source": [
    "#Build a simple ATM simulation.\n",
    "amount = 10000\n",
    "password = 1234\n",
    "max_attempts = 3\n",
    "\n",
    "n = int(input(\" enter the password :\"))\n",
    "\n",
    "if n == password :\n",
    "    print (\" account balance :\",amount)\n",
    "else : \n",
    "    print (\" invalid password try again... \")"
   ]
  },
  {
   "cell_type": "code",
   "execution_count": null,
   "id": "49cd7123-0ec0-4d6a-be3a-cd59302aefe2",
   "metadata": {},
   "outputs": [],
   "source": []
  }
 ],
 "metadata": {
  "kernelspec": {
   "display_name": "Python 3 (ipykernel)",
   "language": "python",
   "name": "python3"
  },
  "language_info": {
   "codemirror_mode": {
    "name": "ipython",
    "version": 3
   },
   "file_extension": ".py",
   "mimetype": "text/x-python",
   "name": "python",
   "nbconvert_exporter": "python",
   "pygments_lexer": "ipython3",
   "version": "3.13.5"
  }
 },
 "nbformat": 4,
 "nbformat_minor": 5
}
