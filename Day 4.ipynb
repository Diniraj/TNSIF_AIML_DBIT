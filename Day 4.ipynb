{
 "cells": [
  {
   "cell_type": "code",
   "execution_count": 2,
   "id": "925674bb-1cda-41c1-8603-a0b32f1a092d",
   "metadata": {},
   "outputs": [
    {
     "name": "stdout",
     "output_type": "stream",
     "text": [
      "{'Venky': 9036, 'Varma': 8976, 'Rahul': 3145, 'Preetham': 6377}\n"
     ]
    },
    {
     "name": "stdin",
     "output_type": "stream",
     "text": [
      "Enter the name whose number to be modified Venky\n",
      "Enter the new number 4566\n"
     ]
    },
    {
     "name": "stdout",
     "output_type": "stream",
     "text": [
      "Modified successfully\n",
      "{'Venky': '4566', 'Varma': 8976, 'Rahul': 3145, 'Preetham': 6377}\n"
     ]
    }
   ],
   "source": [
    "phonebook={\"Venky\":9036,\"Varma\":8976,\"Rahul\":3145,\"Preetham\":6377}\n",
    "print(phonebook)\n",
    "\n",
    "name = input(\"Enter the name whose number to be modified\")\n",
    "if name in phonebook:\n",
    "    newnumb = input(\"Enter the new number\")\n",
    "    phonebook[name] = newnumb\n",
    "    print(\"Modified successfully\")\n",
    "    print(phonebook)\n",
    "else:\n",
    "    print(name, \"was not found.\")"
   ]
  },
  {
   "cell_type": "code",
   "execution_count": 4,
   "id": "f28597ee-61df-498a-acbd-b1c629960c2d",
   "metadata": {},
   "outputs": [
    {
     "name": "stdout",
     "output_type": "stream",
     "text": [
      "{'Jishnu': 3908, 'Roma': 6590, 'Vishnu': 5312}\n",
      "{'Jishnu': 3908, 'Roma': 6590, 'Vishnu': 5312, 'Hity': 4543}\n",
      "{'Jishnu': 3908, 'Roma': 6590, 'Vishnu': 5312, 'Hity': 4543, 'Vetri': 8799}\n"
     ]
    }
   ],
   "source": [
    "phonebook={\"Jishnu\":3908,\"Roma\":6590,\"Vishnu\":5312}\n",
    "print(phonebook)\n",
    "phonebook[\"Bintu\"]=4543\n",
    "print(phonebook)\n",
    "phonebook.update({\"Vetri\":8799})\n",
    "print(phonebook)"
   ]
  },
  {
   "cell_type": "code",
   "execution_count": 5,
   "id": "c8e4b88b-b703-466f-b83e-1acc997f4772",
   "metadata": {},
   "outputs": [
    {
     "name": "stdout",
     "output_type": "stream",
     "text": [
      "{'manoj': 3678, 'Anish': 1456}\n"
     ]
    },
    {
     "name": "stdin",
     "output_type": "stream",
     "text": [
      "enter the name to delete: Anish\n"
     ]
    },
    {
     "name": "stdout",
     "output_type": "stream",
     "text": [
      "delete successfully\n",
      "{'manoj': 3678}\n"
     ]
    }
   ],
   "source": [
    "phonebook={\"manoj\":3678,\"Anish\":1456}\n",
    "print(phonebook)\n",
    "\n",
    "name = input(\"enter the name to delete:\")\n",
    "if name in phonebook:\n",
    "    del phonebook[name]\n",
    "    print (\"delete successfully\")\n",
    "    print (phonebook)\n",
    "else:\n",
    "    print (name,\"was not found\")"
   ]
  },
  {
   "cell_type": "code",
   "execution_count": 6,
   "id": "63bec630-b78b-4d51-8df5-3c0011f2c75a",
   "metadata": {},
   "outputs": [
    {
     "name": "stdout",
     "output_type": "stream",
     "text": [
      "<class 'dict'>\n",
      "{}\n",
      "dict_keys([])\n"
     ]
    }
   ],
   "source": [
    "phonebook={\"Neha\":9768,\"Sheety\":8956}\n",
    "print(type(phonebook))\n",
    "\n",
    "phonebook.clear()\n",
    "print(phonebook)\n",
    "\n",
    "print(phonebook.keys())"
   ]
  },
  {
   "cell_type": "code",
   "execution_count": 7,
   "id": "860eb2d8-d58b-43fa-93c5-cb86f15cf320",
   "metadata": {},
   "outputs": [
    {
     "name": "stdin",
     "output_type": "stream",
     "text": [
      "Enter number of employees:  1\n",
      "\n",
      "Enter name of employee 1:  dini\n",
      "Enter employee number of dini:  3947\n"
     ]
    },
    {
     "name": "stdout",
     "output_type": "stream",
     "text": [
      "\n",
      "Employee Records:\n",
      "Name: dini, Employee Number: 3947\n"
     ]
    }
   ],
   "source": [
    "n = int(input(\"Enter number of employees: \"))\n",
    "employees = {}\n",
    "for i in range(n):\n",
    "    name = input(f\"\\nEnter name of employee {i+1}: \")\n",
    "    number = input(f\"Enter employee number of {name}: \")\n",
    "    employees[name] = number\n",
    "print(\"\\nEmployee Records:\")\n",
    "for name, number in employees.items():\n",
    "    print(f\"Name: {name}, Employee Number: {number}\")"
   ]
  },
  {
   "cell_type": "code",
   "execution_count": null,
   "id": "0f8ec59a-9812-4a6f-bd62-7390d31e8dc3",
   "metadata": {},
   "outputs": [],
   "source": []
  }
 ],
 "metadata": {
  "kernelspec": {
   "display_name": "Python 3 (ipykernel)",
   "language": "python",
   "name": "python3"
  },
  "language_info": {
   "codemirror_mode": {
    "name": "ipython",
    "version": 3
   },
   "file_extension": ".py",
   "mimetype": "text/x-python",
   "name": "python",
   "nbconvert_exporter": "python",
   "pygments_lexer": "ipython3",
   "version": "3.13.5"
  }
 },
 "nbformat": 4,
 "nbformat_minor": 5
}
