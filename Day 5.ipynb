{
 "cells": [
  {
   "cell_type": "code",
   "execution_count": 1,
   "id": "f106b511-78c0-44fd-9df8-25730ceff76d",
   "metadata": {},
   "outputs": [
    {
     "name": "stdout",
     "output_type": "stream",
     "text": [
      "(3,)\n"
     ]
    }
   ],
   "source": [
    "tup=(3,)\n",
    "print(tup)"
   ]
  },
  {
   "cell_type": "code",
   "execution_count": 2,
   "id": "6fc53ec9-0f35-42ee-9471-6ba77971d548",
   "metadata": {},
   "outputs": [
    {
     "name": "stdout",
     "output_type": "stream",
     "text": [
      "<class 'tuple'>\n"
     ]
    }
   ],
   "source": [
    "tup=(3,)\n",
    "print(type(tup))"
   ]
  },
  {
   "cell_type": "code",
   "execution_count": 12,
   "id": "0a01c616-09c2-4f63-b7d6-e783268aa971",
   "metadata": {},
   "outputs": [
    {
     "name": "stdout",
     "output_type": "stream",
     "text": [
      "(1, 2, 3, 4, 7)\n"
     ]
    }
   ],
   "source": [
    "t=(1,2,3,4)\n",
    "t=t+(7,)\n",
    "t+(10,)\n",
    "print(t)"
   ]
  },
  {
   "cell_type": "code",
   "execution_count": 6,
   "id": "2253ff80-6fce-41db-aca0-1c47b50b113d",
   "metadata": {},
   "outputs": [
    {
     "name": "stdin",
     "output_type": "stream",
     "text": [
      "Enter the number of employees:  2\n",
      "Enter salary for employee 1:  10\n",
      "Enter salary for employee 2:  20\n"
     ]
    },
    {
     "name": "stdout",
     "output_type": "stream",
     "text": [
      "\n",
      "All salaries: (10.0, 20.0)\n",
      "Minimum salary: 10.0\n",
      "Maximum salary: 20.0\n"
     ]
    }
   ],
   "source": [
    "n = int(input(\"Enter the number of employees: \"))\n",
    "salary_list = []\n",
    "for i in range(n):\n",
    "    salary = float(input(f\"Enter salary for employee {i + 1}: \"))\n",
    "    salary_list.append(salary)\n",
    "salaries = tuple(salary_list)\n",
    "print(\"\\nAll salaries:\", salaries)\n",
    "print(f\"Minimum salary: {min(salaries)}\")\n",
    "print(f\"Maximum salary: {max(salaries)}\")"
   ]
  },
  {
   "cell_type": "code",
   "execution_count": 7,
   "id": "698de475-7851-4a58-8426-67ca1c65e141",
   "metadata": {},
   "outputs": [
    {
     "name": "stdout",
     "output_type": "stream",
     "text": [
      "(3, 2, 3, 2)\n"
     ]
    }
   ],
   "source": [
    "tup=(3,2)*2\n",
    "print(tup)"
   ]
  },
  {
   "cell_type": "code",
   "execution_count": 8,
   "id": "dacee957-df13-4747-ada2-05b846d0ee86",
   "metadata": {},
   "outputs": [
    {
     "name": "stdout",
     "output_type": "stream",
     "text": [
      "('python',)\n",
      "1\n",
      "4\n",
      "(10, 20, 30, 10, 20, 30)\n"
     ]
    }
   ],
   "source": [
    "t=tuple()\n",
    "t=t+('python',)\n",
    "print(t)\n",
    "print(len(t))\n",
    "t1=(10,20,30)\n",
    "t2=t1+t\n",
    "print(len(t2))\n",
    "t3=t1*2\n",
    "print(t3)"
   ]
  },
  {
   "cell_type": "code",
   "execution_count": 10,
   "id": "b10989d1-8ae0-4ea7-8eff-2bca96de84ed",
   "metadata": {},
   "outputs": [
    {
     "name": "stdin",
     "output_type": "stream",
     "text": [
      "Enter number of employees:  2\n",
      "Enter employee name:  jii\n",
      "Enter employee number:  123\n",
      "Enter employee name:  ghgh\n",
      "Enter employee number:  456\n"
     ]
    },
    {
     "name": "stdout",
     "output_type": "stream",
     "text": [
      "\n",
      "Employee Details:\n",
      "Name: jii, Number: 123\n",
      "Name: ghgh, Number: 456\n"
     ]
    }
   ],
   "source": [
    "employee_dict = {}\n",
    "n = int(input(\"Enter number of employees: \"))\n",
    "for i in range(n):\n",
    "    name = input(\"Enter employee name: \")\n",
    "    number = input(\"Enter employee number: \")\n",
    "    employee_dict[name] = number \n",
    "print(\"\\nEmployee Details:\")\n",
    "for name, number in employee_dict.items():\n",
    "    print(f\"Name: {name}, Number: {number}\")"
   ]
  },
  {
   "cell_type": "code",
   "execution_count": null,
   "id": "291351d6-2066-4728-afc5-2d4d19c1e7b1",
   "metadata": {},
   "outputs": [],
   "source": []
  }
 ],
 "metadata": {
  "kernelspec": {
   "display_name": "Python 3 (ipykernel)",
   "language": "python",
   "name": "python3"
  },
  "language_info": {
   "codemirror_mode": {
    "name": "ipython",
    "version": 3
   },
   "file_extension": ".py",
   "mimetype": "text/x-python",
   "name": "python",
   "nbconvert_exporter": "python",
   "pygments_lexer": "ipython3",
   "version": "3.13.5"
  }
 },
 "nbformat": 4,
 "nbformat_minor": 5
}
